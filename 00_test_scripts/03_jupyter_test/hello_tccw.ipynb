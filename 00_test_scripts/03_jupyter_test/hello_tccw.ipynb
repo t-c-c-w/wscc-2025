{
 "cells": [
  {
   "cell_type": "markdown",
   "metadata": {},
   "source": [
    "# Test Interactive Python Notebook for the fifth WSCC..."
   ]
  },
  {
   "cell_type": "code",
   "execution_count": 1,
   "metadata": {},
   "outputs": [
    {
     "name": "stdout",
     "output_type": "stream",
     "text": [
      "Hello TCCW!\n"
     ]
    }
   ],
   "source": [
    "print(\"Hello TCCW!\")"
   ]
  }
 ],
 "metadata": {
  "kernelspec": {
   "display_name": "cc_enc",
   "language": "python",
   "name": "python3"
  },
  "language_info": {
   "codemirror_mode": {
    "name": "ipython",
    "version": 3
   },
   "file_extension": ".py",
   "mimetype": "text/x-python",
   "name": "python",
   "nbconvert_exporter": "python",
   "pygments_lexer": "ipython3",
   "version": "3.12.3"
  }
 },
 "nbformat": 4,
 "nbformat_minor": 2
}
